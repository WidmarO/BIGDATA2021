{
  "nbformat": 4,
  "nbformat_minor": 0,
  "metadata": {
    "colab": {
      "name": "Algt_a_priori.ipynb",
      "provenance": [],
      "collapsed_sections": []
    },
    "kernelspec": {
      "name": "python3",
      "display_name": "Python 3"
    },
    "language_info": {
      "name": "python"
    }
  },
  "cells": [
    {
      "cell_type": "markdown",
      "metadata": {
        "id": "SvfRrH5jZJYv"
      },
      "source": [
        "# Implementacion del algoritmo a priori\n",
        "```\n",
        "Estudiante: Widmar Raul Quispe Leon\n",
        "Docente: Carlos Montoya Cuba\n",
        "Curso: Mineria de Datos\n",
        "```"
      ]
    },
    {
      "cell_type": "markdown",
      "metadata": {
        "id": "rd9jT-0fZmqo"
      },
      "source": [
        "Instalamos las libreria necesarias"
      ]
    },
    {
      "cell_type": "code",
      "metadata": {
        "colab": {
          "base_uri": "https://localhost:8080/"
        },
        "id": "y-mxaFEyYirz",
        "outputId": "90470ab3-5a69-41cb-eedf-ee2d8372264e"
      },
      "source": [
        "!pip install numpy\n",
        "!pip install more-itertools"
      ],
      "execution_count": 3,
      "outputs": [
        {
          "output_type": "stream",
          "name": "stdout",
          "text": [
            "Requirement already satisfied: numpy in /usr/local/lib/python3.7/dist-packages (1.19.5)\n",
            "Requirement already satisfied: more-itertools in /usr/local/lib/python3.7/dist-packages (8.11.0)\n"
          ]
        }
      ]
    },
    {
      "cell_type": "markdown",
      "metadata": {
        "id": "BZb10w5IZrIB"
      },
      "source": [
        "Importamos la librerias\n"
      ]
    },
    {
      "cell_type": "code",
      "metadata": {
        "id": "N34mEUNFY0Kp"
      },
      "source": [
        "import numpy as np\n",
        "from numpy import *\n",
        "import itertools"
      ],
      "execution_count": 4,
      "outputs": []
    },
    {
      "cell_type": "markdown",
      "metadata": {
        "id": "vz6ERVdBaX3D"
      },
      "source": [
        "Implementamos el codigo"
      ]
    },
    {
      "cell_type": "code",
      "metadata": {
        "colab": {
          "base_uri": "https://localhost:8080/"
        },
        "id": "05Wx8DASZuLA",
        "outputId": "19355980-6519-4684-cb13-2509ffea8b1b"
      },
      "source": [
        "\n",
        "# -- cargamos la data\n",
        "playlists_numpy = np.load('spotify.npy',allow_pickle=True)\n",
        "\n",
        "# -- definimos los valores el min_support y el min_confidence\n",
        "min_support = 3 # count\n",
        "min_confidence = 0.6 # percentaje\n",
        "\n",
        "# -- lista de playlists en formato lista de python\n",
        "playlists = list(playlists_numpy.item().values())\n",
        "playlists = playlists[:100]\n",
        "\n",
        "songs1 = set() # conjunto vacio\n",
        "\n",
        "# -- creamos un conjunto para eliminar repetidos y obtener todas las canciones\n",
        "for each_list in playlists:\n",
        "    for song in each_list:\n",
        "        songs1.add(song)\n",
        "\n",
        "# -- lo convertimos a una lista para manejarlo mas facil\n",
        "songs1 = sorted(list(songs1))\n",
        "print(\"antes\",len(songs1))\n",
        "\n",
        "# -- creamos un diccionario vacio para saber sus counts de cada cancion -> L1\n",
        "dic_songs1 = {}\n",
        "for i in songs1:\n",
        "    dic_songs1[i] = 0 # { ... , Baby : 0, ... } \n",
        "\n",
        "# -- buscamos en la lista de canciones y agregamos el count de cada cancion\n",
        "for _list in playlists:\n",
        "    for i in _list:\n",
        "        dic_songs1[i] += 1\n",
        "# print(dic_songs1)\n",
        "\n",
        "# -- filtramos las canciones que no pasen el min_support para L1\n",
        "songs2del = []\n",
        "for song in songs1:\n",
        "    if dic_songs1[song] < min_support:\n",
        "        del dic_songs1[song]\n",
        "        # songs2del.append(song)\n",
        "# for i in songs2del:\n",
        "#     songs1.remove(i)\n",
        "songs1 = list(dic_songs1.keys())\n",
        "songs1 = sorted(songs1)\n",
        "# -- mostramos con cuantas canciones nos quedamos en c1\n",
        "print(\"despues\",len(songs1)) \n",
        "\n",
        "# -- hacemos la combinatoria usando itertools para llegar a C2\n",
        "songs2 = list(itertools.combinations(songs1,2))\n",
        "\n",
        "# -- declaramos un diccionario vacio para contar\n",
        "dic_songs2 = {}\n",
        "for i in songs2:\n",
        "    dic_songs2[i] = 0\n",
        "\n",
        "# print(dic_songs2)\n",
        "\n",
        "# -- contamos los counts de cada tupla\n",
        "for _list in playlists:\n",
        "    for tup in songs2:\n",
        "        count = 0\n",
        "        for song in tup:\n",
        "            if song in _list:\n",
        "                count += 1\n",
        "            if count == 2:\n",
        "                dic_songs2[tup] += 1\n",
        "\n",
        "# -- mostramos las tuplas que superan el min_support\n",
        "_list = []\n",
        "for tup in dic_songs2:\n",
        "    if dic_songs2[tup] < 3:        \n",
        "        _list.append(tup)        \n",
        "\n",
        "for i in _list:\n",
        "    del dic_songs2[i]\n",
        "\n",
        "for song in dic_songs2:\n",
        "    print(song,' -> ',dic_songs2[song])\n",
        "\n",
        "\n",
        "\n",
        " "
      ],
      "execution_count": 8,
      "outputs": [
        {
          "output_type": "stream",
          "name": "stdout",
          "text": [
            "antes 5366\n",
            "despues 183\n",
            "('1-800-273-8255', \"It's A Vibe\")  ->  3\n",
            "('1-800-273-8255', 'goosebumps')  ->  3\n",
            "(\"Ain't No Mountain High Enough\", 'My Girl')  ->  3\n",
            "(\"Ain't No Mountain High Enough\", 'Spirit In The Sky')  ->  3\n",
            "('All I Want', 'Chasing Cars')  ->  3\n",
            "('All I Want', 'Like Real People Do')  ->  3\n",
            "('Blood', 'Gravity')  ->  3\n",
            "('Bohemian Rhapsody - Remastered 2011', 'Gimme Shelter')  ->  3\n",
            "('Bohemian Rhapsody - Remastered 2011', 'Sympathy For The Devil')  ->  3\n",
            "('Bounce', 'Congratulations')  ->  3\n",
            "('Bounce', 'goosebumps')  ->  3\n",
            "('Bounce Back', 'Congratulations')  ->  3\n",
            "('Bounce Back', 'THat Part')  ->  3\n",
            "('Bounce Back', 'goosebumps')  ->  3\n",
            "('Congratulations', 'Losin Control')  ->  3\n",
            "('Congratulations', 'THat Part')  ->  3\n",
            "('Congratulations', 'goosebumps')  ->  4\n",
            "('Deja Vu', 'THat Part')  ->  3\n",
            "('Deja Vu', 'XO TOUR Llif3')  ->  3\n",
            "('Deja Vu', 'goosebumps')  ->  3\n",
            "('Drama (feat. Drake)', 'Exchange')  ->  3\n",
            "('Free Bird', 'Sympathy For The Devil')  ->  3\n",
            "('Gimme Shelter', 'Sympathy For The Devil')  ->  3\n",
            "('I Fall Apart', 'Same Drugs')  ->  3\n",
            "('I Want You Back', 'My Girl')  ->  3\n",
            "('Issues', 'Losin Control')  ->  3\n",
            "('Let Me Explain', 'Right My Wrongs')  ->  3\n",
            "('Losin Control', 'What They Want')  ->  3\n",
            "('Losin Control', 'goosebumps')  ->  3\n",
            "('My Girl', 'Spirit In The Sky')  ->  3\n",
            "('No Role Modelz', 'Stronger')  ->  3\n",
            "('THat Part', 'XO TOUR Llif3')  ->  3\n",
            "('THat Part', 'goosebumps')  ->  4\n",
            "('XO TOUR Llif3', 'goosebumps')  ->  3\n"
          ]
        }
      ]
    }
  ]
}